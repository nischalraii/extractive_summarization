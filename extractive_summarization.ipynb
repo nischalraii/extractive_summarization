{
  "nbformat": 4,
  "nbformat_minor": 0,
  "metadata": {
    "colab": {
      "provenance": [],
      "authorship_tag": "ABX9TyO9+Dq4Vw5kGh9d263HCp2r",
      "include_colab_link": true
    },
    "kernelspec": {
      "name": "python3",
      "display_name": "Python 3"
    },
    "language_info": {
      "name": "python"
    }
  },
  "cells": [
    {
      "cell_type": "markdown",
      "metadata": {
        "id": "view-in-github",
        "colab_type": "text"
      },
      "source": [
        "<a href=\"https://colab.research.google.com/github/nischalraii/extractive_summarization/blob/main/extractive_summarization.ipynb\" target=\"_parent\"><img src=\"https://colab.research.google.com/assets/colab-badge.svg\" alt=\"Open In Colab\"/></a>"
      ]
    },
    {
      "cell_type": "code",
      "source": [
        "text =\"\"\"4 Chinese Passengers, Pilot Killed In Helicopter Crash In Nepal\n",
        "Nepal's last major incident involving a commercial flight was in January 2023, when a Yeti Airlines service crashed while landing at Pokhara, killing all 72 aboard.\n",
        "World NewsAgence France-PresseUpdated: August 07, 2024 8:01 pm IST\n",
        "4 Chinese Passengers, Pilot Killed In Helicopter Crash In Nepal\n",
        "This incident comes two weeks after a plane crash in Kathmandu killed 18 aboard. (Representational)\n",
        "Kathmandu, Nepal: A helicopter crashed in central Nepal on Wednesday, killing all five people aboard including the pilot and four Chinese tourists.\n",
        "Nepal has a woeful track record on aviation safety and the Himalayan republic has seen a spate of deadly light plane and helicopter crashes over the decades.\n",
        "The Air Dynasty chopper was heading to Syabrubesi, a starting point for many trekking routes popular with tourists, from the capital Kathmandu.\n",
        "It lost contact about three minutes after taking off, a press release from the Civil Aviation Authority said, and crashed in Nuwakot district north of the capital.\n",
        "Another helicopter was dispatched immediately to the accident site for rescue, it said.\n",
        "\"All five people aboard including the pilot are dead,\" police spokesman Dan Bahadur Karki told AFP.\n",
        "The helicopter lost contact about three minutes after taking off, authorities said Nuwakot district officer Ram Krishna Adhikari said five dead bodies have been retrieved from the accident site.\n",
        "\"It has crashed in a jungle area on the slope of a hill. We do not know the cause yet or how it happened,\" he said from the crash site.\n",
        "Adhikari said that police and army personnel were dispatched after locals had alerted him about the crash and a fire at the site.\n",
        "Nepal's air industry has boomed in recent years, carrying goods and people between hard-to-reach areas as well as foreign trekkers and climbers.\n",
        "But it has been plagued by poor safety due to insufficient training and maintenance, issues compounded by mountainous Nepal's treacherous geography.\n",
        "The Himalayan republic has some of the world's most remote and tricky runways, flanked by snow-capped peaks with approaches that pose a challenge even for accomplished pilots.\n",
        "The European Union has banned all Nepali carriers from its airspace over safety concerns.\n",
        "Wednesday's incident comes two weeks after a plane crash in Kathmandu killed all 18 aboard except the pilot.\n",
        "Six people, including five members of a Mexican family, were killed when a helicopter crashed soon after take-off in the Everest region in 2023.\n",
        "Nepal's tourism minister Rabindra Adhikari was among seven killed in a helicopter crash in 2019.\n",
        "The country's last major incident involving a commercial flight was in January 2023 when a Yeti Airlines service crashed while landing at Pokhara, killing all 72 aboard.\n",
        "That was Nepal's deadliest since 1992 when all 167 people aboard a Pakistan International Airlines plane were killed when it crashed on approach to Kathmandu airport.\n",
        "A Thai Airways aircraft crashed near the same airport earlier that year, killing 113 people.\n",
        "\"\"\""
      ],
      "metadata": {
        "id": "_N8uUvkrGaL3"
      },
      "execution_count": 20,
      "outputs": []
    },
    {
      "cell_type": "code",
      "source": [
        "import spacy\n",
        "from spacy.lang.en.stop_words import STOP_WORDS\n",
        "from string import punctuation"
      ],
      "metadata": {
        "id": "JAVcdNsoGnZu"
      },
      "execution_count": 2,
      "outputs": []
    },
    {
      "cell_type": "code",
      "source": [
        "nlp = spacy.load('en_core_web_sm')"
      ],
      "metadata": {
        "id": "QeoqLILjHLxv"
      },
      "execution_count": 3,
      "outputs": []
    },
    {
      "cell_type": "code",
      "source": [
        "doc = nlp(text)"
      ],
      "metadata": {
        "id": "bCcJNsHhHND-"
      },
      "execution_count": 4,
      "outputs": []
    },
    {
      "cell_type": "code",
      "source": [
        "tokens = [token.text.lower() for token in doc\n",
        "          if not token.is_stop and\n",
        "          not token.is_punct and\n",
        "          token.text !='\\n']"
      ],
      "metadata": {
        "id": "23NtVBj5HPa2"
      },
      "execution_count": 5,
      "outputs": []
    },
    {
      "cell_type": "code",
      "source": [
        "tokens1 = []\n",
        "stopwords = list(STOP_WORDS)\n",
        "allowed_pos = ['ADJ','PROPN','VERB','NOUN']\n",
        "for token in doc:\n",
        "  if token.text in stopwords or token.text in punctuation:\n",
        "    continue\n",
        "  if token.pos_ in allowed_pos:\n",
        "    tokens1.append(token.text)"
      ],
      "metadata": {
        "id": "64aNE0zcHnwA"
      },
      "execution_count": 6,
      "outputs": []
    },
    {
      "cell_type": "code",
      "source": [
        "from collections import Counter"
      ],
      "metadata": {
        "id": "UhAe2RZ2IAUW"
      },
      "execution_count": 7,
      "outputs": []
    },
    {
      "cell_type": "code",
      "source": [
        "word_freq = Counter(tokens)"
      ],
      "metadata": {
        "id": "-INmTLVzIEg2"
      },
      "execution_count": 8,
      "outputs": []
    },
    {
      "cell_type": "code",
      "source": [
        "max_freq = max(word_freq.values())"
      ],
      "metadata": {
        "id": "Kus9AcvqIQgt"
      },
      "execution_count": 9,
      "outputs": []
    },
    {
      "cell_type": "code",
      "source": [
        "for word in word_freq.keys():\n",
        "  word_freq[word]= word_freq[word]/max_freq"
      ],
      "metadata": {
        "id": "D_M9GXzFIa1W"
      },
      "execution_count": 10,
      "outputs": []
    },
    {
      "cell_type": "code",
      "source": [
        "sent_token = [sent.text for sent in doc.sents]"
      ],
      "metadata": {
        "id": "mQdVrJOvIp34"
      },
      "execution_count": 11,
      "outputs": []
    },
    {
      "cell_type": "code",
      "source": [
        "sent_score = {}\n",
        "for sent in sent_token:\n",
        "  for word in sent.split():\n",
        "    if word.lower() in word_freq.keys():\n",
        "      if sent not in sent_score.keys():\n",
        "        sent_score[sent] = word_freq[word]\n",
        "      else:\n",
        "        sent_score[sent] += word_freq[word]"
      ],
      "metadata": {
        "id": "RAYbp7IkI1Rv"
      },
      "execution_count": 12,
      "outputs": []
    },
    {
      "cell_type": "code",
      "source": [
        "import pandas as pd"
      ],
      "metadata": {
        "id": "7LhkD1teOXt0"
      },
      "execution_count": 13,
      "outputs": []
    },
    {
      "cell_type": "code",
      "source": [
        "pd.DataFrame(list(sent_score.items()),columns=[\"Sentence\",\"Score\"])"
      ],
      "metadata": {
        "colab": {
          "base_uri": "https://localhost:8080/",
          "height": 771
        },
        "id": "GC3A_UUmOZYx",
        "outputId": "c39889d0-48d8-4795-f91a-a700731328b7"
      },
      "execution_count": 14,
      "outputs": [
        {
          "output_type": "execute_result",
          "data": {
            "text/plain": [
              "                                             Sentence  Score\n",
              "0   4 Chinese Passengers, Pilot Killed In Helicopt...    3.2\n",
              "1   World NewsAgence France-PresseUpdated: August ...    0.5\n",
              "2   This incident comes two weeks after a plane cr...    2.8\n",
              "3   (Representational)\\nKathmandu, Nepal: A helico...    4.2\n",
              "4   Nepal has a woeful track record on aviation sa...    2.7\n",
              "5   The Air Dynasty chopper was heading to Syabrub...    0.9\n",
              "6   It lost contact about three minutes after taki...    2.1\n",
              "7   Another helicopter was dispatched immediately ...    1.7\n",
              "8   \"All five people aboard including the pilot ar...    2.5\n",
              "9   The helicopter lost contact about three minute...    3.8\n",
              "10  \"It has crashed in a jungle area on the slope ...    1.1\n",
              "11  We do not know the cause yet or how it happene...    1.5\n",
              "12  Adhikari said that police and army personnel w...    2.2\n",
              "13  Nepal's air industry has boomed in recent year...    1.6\n",
              "14  But it has been plagued by poor safety due to ...    1.1\n",
              "15  The Himalayan republic has some of the world's...    1.0\n",
              "16  The European Union has banned all Nepali carri...    0.6\n",
              "17  Wednesday's incident comes two weeks after a p...    3.5\n",
              "18  Six people, including five members of a Mexica...    2.9\n",
              "19  Nepal's tourism minister Rabindra Adhikari was...    2.5\n",
              "20  The country's last major incident involving a ...    3.3\n",
              "21  That was Nepal's deadliest since 1992 when all...    3.6\n",
              "22  A Thai Airways aircraft crashed near the same ...    1.8"
            ],
            "text/html": [
              "\n",
              "  <div id=\"df-8678a5a3-fff2-4b6c-8950-7f1f8e874eb1\" class=\"colab-df-container\">\n",
              "    <div>\n",
              "<style scoped>\n",
              "    .dataframe tbody tr th:only-of-type {\n",
              "        vertical-align: middle;\n",
              "    }\n",
              "\n",
              "    .dataframe tbody tr th {\n",
              "        vertical-align: top;\n",
              "    }\n",
              "\n",
              "    .dataframe thead th {\n",
              "        text-align: right;\n",
              "    }\n",
              "</style>\n",
              "<table border=\"1\" class=\"dataframe\">\n",
              "  <thead>\n",
              "    <tr style=\"text-align: right;\">\n",
              "      <th></th>\n",
              "      <th>Sentence</th>\n",
              "      <th>Score</th>\n",
              "    </tr>\n",
              "  </thead>\n",
              "  <tbody>\n",
              "    <tr>\n",
              "      <th>0</th>\n",
              "      <td>4 Chinese Passengers, Pilot Killed In Helicopt...</td>\n",
              "      <td>3.2</td>\n",
              "    </tr>\n",
              "    <tr>\n",
              "      <th>1</th>\n",
              "      <td>World NewsAgence France-PresseUpdated: August ...</td>\n",
              "      <td>0.5</td>\n",
              "    </tr>\n",
              "    <tr>\n",
              "      <th>2</th>\n",
              "      <td>This incident comes two weeks after a plane cr...</td>\n",
              "      <td>2.8</td>\n",
              "    </tr>\n",
              "    <tr>\n",
              "      <th>3</th>\n",
              "      <td>(Representational)\\nKathmandu, Nepal: A helico...</td>\n",
              "      <td>4.2</td>\n",
              "    </tr>\n",
              "    <tr>\n",
              "      <th>4</th>\n",
              "      <td>Nepal has a woeful track record on aviation sa...</td>\n",
              "      <td>2.7</td>\n",
              "    </tr>\n",
              "    <tr>\n",
              "      <th>5</th>\n",
              "      <td>The Air Dynasty chopper was heading to Syabrub...</td>\n",
              "      <td>0.9</td>\n",
              "    </tr>\n",
              "    <tr>\n",
              "      <th>6</th>\n",
              "      <td>It lost contact about three minutes after taki...</td>\n",
              "      <td>2.1</td>\n",
              "    </tr>\n",
              "    <tr>\n",
              "      <th>7</th>\n",
              "      <td>Another helicopter was dispatched immediately ...</td>\n",
              "      <td>1.7</td>\n",
              "    </tr>\n",
              "    <tr>\n",
              "      <th>8</th>\n",
              "      <td>\"All five people aboard including the pilot ar...</td>\n",
              "      <td>2.5</td>\n",
              "    </tr>\n",
              "    <tr>\n",
              "      <th>9</th>\n",
              "      <td>The helicopter lost contact about three minute...</td>\n",
              "      <td>3.8</td>\n",
              "    </tr>\n",
              "    <tr>\n",
              "      <th>10</th>\n",
              "      <td>\"It has crashed in a jungle area on the slope ...</td>\n",
              "      <td>1.1</td>\n",
              "    </tr>\n",
              "    <tr>\n",
              "      <th>11</th>\n",
              "      <td>We do not know the cause yet or how it happene...</td>\n",
              "      <td>1.5</td>\n",
              "    </tr>\n",
              "    <tr>\n",
              "      <th>12</th>\n",
              "      <td>Adhikari said that police and army personnel w...</td>\n",
              "      <td>2.2</td>\n",
              "    </tr>\n",
              "    <tr>\n",
              "      <th>13</th>\n",
              "      <td>Nepal's air industry has boomed in recent year...</td>\n",
              "      <td>1.6</td>\n",
              "    </tr>\n",
              "    <tr>\n",
              "      <th>14</th>\n",
              "      <td>But it has been plagued by poor safety due to ...</td>\n",
              "      <td>1.1</td>\n",
              "    </tr>\n",
              "    <tr>\n",
              "      <th>15</th>\n",
              "      <td>The Himalayan republic has some of the world's...</td>\n",
              "      <td>1.0</td>\n",
              "    </tr>\n",
              "    <tr>\n",
              "      <th>16</th>\n",
              "      <td>The European Union has banned all Nepali carri...</td>\n",
              "      <td>0.6</td>\n",
              "    </tr>\n",
              "    <tr>\n",
              "      <th>17</th>\n",
              "      <td>Wednesday's incident comes two weeks after a p...</td>\n",
              "      <td>3.5</td>\n",
              "    </tr>\n",
              "    <tr>\n",
              "      <th>18</th>\n",
              "      <td>Six people, including five members of a Mexica...</td>\n",
              "      <td>2.9</td>\n",
              "    </tr>\n",
              "    <tr>\n",
              "      <th>19</th>\n",
              "      <td>Nepal's tourism minister Rabindra Adhikari was...</td>\n",
              "      <td>2.5</td>\n",
              "    </tr>\n",
              "    <tr>\n",
              "      <th>20</th>\n",
              "      <td>The country's last major incident involving a ...</td>\n",
              "      <td>3.3</td>\n",
              "    </tr>\n",
              "    <tr>\n",
              "      <th>21</th>\n",
              "      <td>That was Nepal's deadliest since 1992 when all...</td>\n",
              "      <td>3.6</td>\n",
              "    </tr>\n",
              "    <tr>\n",
              "      <th>22</th>\n",
              "      <td>A Thai Airways aircraft crashed near the same ...</td>\n",
              "      <td>1.8</td>\n",
              "    </tr>\n",
              "  </tbody>\n",
              "</table>\n",
              "</div>\n",
              "    <div class=\"colab-df-buttons\">\n",
              "\n",
              "  <div class=\"colab-df-container\">\n",
              "    <button class=\"colab-df-convert\" onclick=\"convertToInteractive('df-8678a5a3-fff2-4b6c-8950-7f1f8e874eb1')\"\n",
              "            title=\"Convert this dataframe to an interactive table.\"\n",
              "            style=\"display:none;\">\n",
              "\n",
              "  <svg xmlns=\"http://www.w3.org/2000/svg\" height=\"24px\" viewBox=\"0 -960 960 960\">\n",
              "    <path d=\"M120-120v-720h720v720H120Zm60-500h600v-160H180v160Zm220 220h160v-160H400v160Zm0 220h160v-160H400v160ZM180-400h160v-160H180v160Zm440 0h160v-160H620v160ZM180-180h160v-160H180v160Zm440 0h160v-160H620v160Z\"/>\n",
              "  </svg>\n",
              "    </button>\n",
              "\n",
              "  <style>\n",
              "    .colab-df-container {\n",
              "      display:flex;\n",
              "      gap: 12px;\n",
              "    }\n",
              "\n",
              "    .colab-df-convert {\n",
              "      background-color: #E8F0FE;\n",
              "      border: none;\n",
              "      border-radius: 50%;\n",
              "      cursor: pointer;\n",
              "      display: none;\n",
              "      fill: #1967D2;\n",
              "      height: 32px;\n",
              "      padding: 0 0 0 0;\n",
              "      width: 32px;\n",
              "    }\n",
              "\n",
              "    .colab-df-convert:hover {\n",
              "      background-color: #E2EBFA;\n",
              "      box-shadow: 0px 1px 2px rgba(60, 64, 67, 0.3), 0px 1px 3px 1px rgba(60, 64, 67, 0.15);\n",
              "      fill: #174EA6;\n",
              "    }\n",
              "\n",
              "    .colab-df-buttons div {\n",
              "      margin-bottom: 4px;\n",
              "    }\n",
              "\n",
              "    [theme=dark] .colab-df-convert {\n",
              "      background-color: #3B4455;\n",
              "      fill: #D2E3FC;\n",
              "    }\n",
              "\n",
              "    [theme=dark] .colab-df-convert:hover {\n",
              "      background-color: #434B5C;\n",
              "      box-shadow: 0px 1px 3px 1px rgba(0, 0, 0, 0.15);\n",
              "      filter: drop-shadow(0px 1px 2px rgba(0, 0, 0, 0.3));\n",
              "      fill: #FFFFFF;\n",
              "    }\n",
              "  </style>\n",
              "\n",
              "    <script>\n",
              "      const buttonEl =\n",
              "        document.querySelector('#df-8678a5a3-fff2-4b6c-8950-7f1f8e874eb1 button.colab-df-convert');\n",
              "      buttonEl.style.display =\n",
              "        google.colab.kernel.accessAllowed ? 'block' : 'none';\n",
              "\n",
              "      async function convertToInteractive(key) {\n",
              "        const element = document.querySelector('#df-8678a5a3-fff2-4b6c-8950-7f1f8e874eb1');\n",
              "        const dataTable =\n",
              "          await google.colab.kernel.invokeFunction('convertToInteractive',\n",
              "                                                    [key], {});\n",
              "        if (!dataTable) return;\n",
              "\n",
              "        const docLinkHtml = 'Like what you see? Visit the ' +\n",
              "          '<a target=\"_blank\" href=https://colab.research.google.com/notebooks/data_table.ipynb>data table notebook</a>'\n",
              "          + ' to learn more about interactive tables.';\n",
              "        element.innerHTML = '';\n",
              "        dataTable['output_type'] = 'display_data';\n",
              "        await google.colab.output.renderOutput(dataTable, element);\n",
              "        const docLink = document.createElement('div');\n",
              "        docLink.innerHTML = docLinkHtml;\n",
              "        element.appendChild(docLink);\n",
              "      }\n",
              "    </script>\n",
              "  </div>\n",
              "\n",
              "\n",
              "<div id=\"df-69323a58-96cf-4baa-acbd-628550ea3376\">\n",
              "  <button class=\"colab-df-quickchart\" onclick=\"quickchart('df-69323a58-96cf-4baa-acbd-628550ea3376')\"\n",
              "            title=\"Suggest charts\"\n",
              "            style=\"display:none;\">\n",
              "\n",
              "<svg xmlns=\"http://www.w3.org/2000/svg\" height=\"24px\"viewBox=\"0 0 24 24\"\n",
              "     width=\"24px\">\n",
              "    <g>\n",
              "        <path d=\"M19 3H5c-1.1 0-2 .9-2 2v14c0 1.1.9 2 2 2h14c1.1 0 2-.9 2-2V5c0-1.1-.9-2-2-2zM9 17H7v-7h2v7zm4 0h-2V7h2v10zm4 0h-2v-4h2v4z\"/>\n",
              "    </g>\n",
              "</svg>\n",
              "  </button>\n",
              "\n",
              "<style>\n",
              "  .colab-df-quickchart {\n",
              "      --bg-color: #E8F0FE;\n",
              "      --fill-color: #1967D2;\n",
              "      --hover-bg-color: #E2EBFA;\n",
              "      --hover-fill-color: #174EA6;\n",
              "      --disabled-fill-color: #AAA;\n",
              "      --disabled-bg-color: #DDD;\n",
              "  }\n",
              "\n",
              "  [theme=dark] .colab-df-quickchart {\n",
              "      --bg-color: #3B4455;\n",
              "      --fill-color: #D2E3FC;\n",
              "      --hover-bg-color: #434B5C;\n",
              "      --hover-fill-color: #FFFFFF;\n",
              "      --disabled-bg-color: #3B4455;\n",
              "      --disabled-fill-color: #666;\n",
              "  }\n",
              "\n",
              "  .colab-df-quickchart {\n",
              "    background-color: var(--bg-color);\n",
              "    border: none;\n",
              "    border-radius: 50%;\n",
              "    cursor: pointer;\n",
              "    display: none;\n",
              "    fill: var(--fill-color);\n",
              "    height: 32px;\n",
              "    padding: 0;\n",
              "    width: 32px;\n",
              "  }\n",
              "\n",
              "  .colab-df-quickchart:hover {\n",
              "    background-color: var(--hover-bg-color);\n",
              "    box-shadow: 0 1px 2px rgba(60, 64, 67, 0.3), 0 1px 3px 1px rgba(60, 64, 67, 0.15);\n",
              "    fill: var(--button-hover-fill-color);\n",
              "  }\n",
              "\n",
              "  .colab-df-quickchart-complete:disabled,\n",
              "  .colab-df-quickchart-complete:disabled:hover {\n",
              "    background-color: var(--disabled-bg-color);\n",
              "    fill: var(--disabled-fill-color);\n",
              "    box-shadow: none;\n",
              "  }\n",
              "\n",
              "  .colab-df-spinner {\n",
              "    border: 2px solid var(--fill-color);\n",
              "    border-color: transparent;\n",
              "    border-bottom-color: var(--fill-color);\n",
              "    animation:\n",
              "      spin 1s steps(1) infinite;\n",
              "  }\n",
              "\n",
              "  @keyframes spin {\n",
              "    0% {\n",
              "      border-color: transparent;\n",
              "      border-bottom-color: var(--fill-color);\n",
              "      border-left-color: var(--fill-color);\n",
              "    }\n",
              "    20% {\n",
              "      border-color: transparent;\n",
              "      border-left-color: var(--fill-color);\n",
              "      border-top-color: var(--fill-color);\n",
              "    }\n",
              "    30% {\n",
              "      border-color: transparent;\n",
              "      border-left-color: var(--fill-color);\n",
              "      border-top-color: var(--fill-color);\n",
              "      border-right-color: var(--fill-color);\n",
              "    }\n",
              "    40% {\n",
              "      border-color: transparent;\n",
              "      border-right-color: var(--fill-color);\n",
              "      border-top-color: var(--fill-color);\n",
              "    }\n",
              "    60% {\n",
              "      border-color: transparent;\n",
              "      border-right-color: var(--fill-color);\n",
              "    }\n",
              "    80% {\n",
              "      border-color: transparent;\n",
              "      border-right-color: var(--fill-color);\n",
              "      border-bottom-color: var(--fill-color);\n",
              "    }\n",
              "    90% {\n",
              "      border-color: transparent;\n",
              "      border-bottom-color: var(--fill-color);\n",
              "    }\n",
              "  }\n",
              "</style>\n",
              "\n",
              "  <script>\n",
              "    async function quickchart(key) {\n",
              "      const quickchartButtonEl =\n",
              "        document.querySelector('#' + key + ' button');\n",
              "      quickchartButtonEl.disabled = true;  // To prevent multiple clicks.\n",
              "      quickchartButtonEl.classList.add('colab-df-spinner');\n",
              "      try {\n",
              "        const charts = await google.colab.kernel.invokeFunction(\n",
              "            'suggestCharts', [key], {});\n",
              "      } catch (error) {\n",
              "        console.error('Error during call to suggestCharts:', error);\n",
              "      }\n",
              "      quickchartButtonEl.classList.remove('colab-df-spinner');\n",
              "      quickchartButtonEl.classList.add('colab-df-quickchart-complete');\n",
              "    }\n",
              "    (() => {\n",
              "      let quickchartButtonEl =\n",
              "        document.querySelector('#df-69323a58-96cf-4baa-acbd-628550ea3376 button');\n",
              "      quickchartButtonEl.style.display =\n",
              "        google.colab.kernel.accessAllowed ? 'block' : 'none';\n",
              "    })();\n",
              "  </script>\n",
              "</div>\n",
              "\n",
              "    </div>\n",
              "  </div>\n"
            ],
            "application/vnd.google.colaboratory.intrinsic+json": {
              "type": "dataframe",
              "summary": "{\n  \"name\": \"pd\",\n  \"rows\": 23,\n  \"fields\": [\n    {\n      \"column\": \"Sentence\",\n      \"properties\": {\n        \"dtype\": \"string\",\n        \"num_unique_values\": 23,\n        \"samples\": [\n          \"The Himalayan republic has some of the world's most remote and tricky runways, flanked by snow-capped peaks with approaches that pose a challenge even for accomplished pilots.\\n\",\n          \"The helicopter lost contact about three minutes after taking off, authorities said Nuwakot district officer Ram Krishna Adhikari said five dead bodies have been retrieved from the accident site.\\n\",\n          \"4 Chinese Passengers, Pilot Killed In Helicopter Crash In Nepal\\nNepal's last major incident involving a commercial flight was in January 2023, when a Yeti Airlines service crashed while landing at Pokhara, killing all 72 aboard.\\n\"\n        ],\n        \"semantic_type\": \"\",\n        \"description\": \"\"\n      }\n    },\n    {\n      \"column\": \"Score\",\n      \"properties\": {\n        \"dtype\": \"number\",\n        \"std\": 1.0862598557934011,\n        \"min\": 0.5,\n        \"max\": 4.2,\n        \"num_unique_values\": 22,\n        \"samples\": [\n          3.2,\n          1.6,\n          2.5\n        ],\n        \"semantic_type\": \"\",\n        \"description\": \"\"\n      }\n    }\n  ]\n}"
            }
          },
          "metadata": {},
          "execution_count": 14
        }
      ]
    },
    {
      "cell_type": "code",
      "source": [
        "from heapq import nlargest"
      ],
      "metadata": {
        "id": "1FrbWYlGOpk5"
      },
      "execution_count": 15,
      "outputs": []
    },
    {
      "cell_type": "code",
      "source": [
        "num_sentences = 5\n",
        "n = nlargest(num_sentences,sent_score,key=sent_score.get)"
      ],
      "metadata": {
        "id": "NiDYbrrLOsih"
      },
      "execution_count": 16,
      "outputs": []
    },
    {
      "cell_type": "code",
      "source": [
        "result = \"\".join(n)"
      ],
      "metadata": {
        "id": "sRQHWpi2P3w5"
      },
      "execution_count": 17,
      "outputs": []
    },
    {
      "cell_type": "code",
      "source": [
        "# Replace newline characters with spaces\n",
        "cleaned_result = result.replace('\\n', ' ')"
      ],
      "metadata": {
        "id": "pdun0lXcRZ2Q"
      },
      "execution_count": 18,
      "outputs": []
    },
    {
      "cell_type": "code",
      "source": [
        "cleaned_result"
      ],
      "metadata": {
        "colab": {
          "base_uri": "https://localhost:8080/",
          "height": 87
        },
        "id": "fTBnpiazRiRH",
        "outputId": "96760c23-79a4-4698-aa43-a5b29f1c5e07"
      },
      "execution_count": 19,
      "outputs": [
        {
          "output_type": "execute_result",
          "data": {
            "text/plain": [
              "\"(Representational) Kathmandu, Nepal: A helicopter crashed in central Nepal on Wednesday, killing all five people aboard including the pilot and four Chinese tourists. The helicopter lost contact about three minutes after taking off, authorities said Nuwakot district officer Ram Krishna Adhikari said five dead bodies have been retrieved from the accident site. That was Nepal's deadliest since 1992 when all 167 people aboard a Pakistan International Airlines plane were killed when it crashed on approach to Kathmandu airport. Wednesday's incident comes two weeks after a plane crash in Kathmandu killed all 18 aboard except the pilot. The country's last major incident involving a commercial flight was in January 2023 when a Yeti Airlines service crashed while landing at Pokhara, killing all 72 aboard. \""
            ],
            "application/vnd.google.colaboratory.intrinsic+json": {
              "type": "string"
            }
          },
          "metadata": {},
          "execution_count": 19
        }
      ]
    }
  ]
}